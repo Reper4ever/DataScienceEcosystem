{
 "cells": [
  {
   "cell_type": "markdown",
   "metadata": {},
   "source": [
    "<center>\n",
    "    <img src=\"https://cf-courses-data.s3.us.cloud-object-storage.appdomain.cloud/IBMDeveloperSkillsNetwork-DS0105EN-SkillsNetwork/labs/Module2/images/SN_web_lightmode.png\" width=\"300\" alt=\"cognitiveclass.ai logo\">\n",
    "</center>\n"
   ]
  },
  {
   "cell_type": "markdown",
   "metadata": {},
   "source": [
    "#### Add your code below following the instructions given in the course\n"
   ]
  },
  {
   "cell_type": "code",
   "execution_count": 1,
   "metadata": {
    "tags": []
   },
   "outputs": [],
   "source": [
    "# Exercise 1: Create a Jupyter Notebook"
   ]
  },
  {
   "cell_type": "code",
   "execution_count": 2,
   "metadata": {
    "tags": []
   },
   "outputs": [],
   "source": [
    "# Exercise 2: Create markdown cell with title of the notebook"
   ]
  },
  {
   "cell_type": "markdown",
   "metadata": {},
   "source": [
    "# Data Science Tools and Ecosystem"
   ]
  },
  {
   "cell_type": "code",
   "execution_count": 3,
   "metadata": {
    "tags": []
   },
   "outputs": [],
   "source": [
    "# Exercise 3 - Create a markdown cell for an introduction"
   ]
  },
  {
   "cell_type": "markdown",
   "metadata": {},
   "source": [
    "# In this notebook, Data Science Tools and Ecosystem are summarized.\n"
   ]
  },
  {
   "cell_type": "code",
   "execution_count": 4,
   "metadata": {
    "tags": []
   },
   "outputs": [],
   "source": [
    "# Exercise 4 - Create a markdown cell to list data science languages"
   ]
  },
  {
   "cell_type": "markdown",
   "metadata": {},
   "source": [
    "## Some of the popular languages that Data Scientists use are:\n",
    "### Python\n",
    "### R\n",
    "### SQL\n",
    "### Java\n",
    "### Julia\n",
    "### Scala\n",
    "### C/C++\n",
    "### JavaScript\n",
    "    "
   ]
  },
  {
   "cell_type": "code",
   "execution_count": 5,
   "metadata": {
    "tags": []
   },
   "outputs": [],
   "source": [
    "# Exercise 5 - Create a markdown cell to list data science libraries"
   ]
  },
  {
   "cell_type": "markdown",
   "metadata": {},
   "source": [
    "## Some of the commonly used libraries used by Data Scientists include:\n",
    "### TensorFlow\n",
    "### NumPy\n",
    "### SciPy\n",
    "### Pandas\n",
    "### Matplotlib\n",
    "### Keras\n",
    "### SciKit-Learn\n",
    "### PyTorch\n",
    "### Scrapy\n",
    "### BeautifulSoup\n",
    "### LightGBM\n",
    "### ELI5\n",
    "### Theano\n",
    "### NuPIC\n",
    "### Ramp\n",
    "### Pipenv\n",
    "### Bob\n",
    "### PyBrain\n",
    "### Caffe2\n",
    "### Chainer"
   ]
  },
  {
   "cell_type": "code",
   "execution_count": 6,
   "metadata": {
    "tags": []
   },
   "outputs": [],
   "source": [
    "# Exercise 6 - Create a markdown cell with a table of Data Science tools"
   ]
  },
  {
   "cell_type": "markdown",
   "metadata": {},
   "source": [
    "| Tool               | Description                                                  |\n",
    "|-------------------|--------------------------------------------------------------|\n",
    "| Python            | A versatile programming language for data analysis and ML.   |\n",
    "| R                 | A language and environment for statistical computing.        |\n",
    "| Jupyter Notebook  | An interactive environment for code, data, and visualization.|\n",
    "| TensorFlow        | An open-source ML framework developed by Google.             |\n",
    "| scikit-learn      | A machine learning library for Python.                       |\n",
    "| pandas            | A powerful data analysis and manipulation library for Python. |\n",
    "| SQL               | A domain-specific language for managing and analyzing data.  |\n",
    "| Tableau           | A data visualization tool for creating interactive visuals.   |\n",
    "| Power BI          | A business analytics tool for interactive data visualization. |\n",
    "| KNIME             | An open-source platform for data analytics and reporting.     |\n"
   ]
  },
  {
   "cell_type": "code",
   "execution_count": 7,
   "metadata": {
    "tags": []
   },
   "outputs": [],
   "source": [
    "# Exercise 7 - Create a markdown cell introducing arithmetic expression examples"
   ]
  },
  {
   "cell_type": "markdown",
   "metadata": {},
   "source": [
    "## Arithmetic Expression Examples\n",
    "\n",
    "Arithmetic expressions involve mathematical operations such as addition, subtraction, multiplication, and division. These expressions allow you to perform calculations in programming. Here are some basic examples of arithmetic expressions:\n",
    "\n",
    "1. **Addition**: Adding two numbers together.\n",
    "   ```python\n",
    "   result = 10 + 5  # Adds 10 and 5, result is 15\n"
   ]
  },
  {
   "cell_type": "code",
   "execution_count": 10,
   "metadata": {
    "tags": []
   },
   "outputs": [
    {
     "data": {
      "text/plain": [
       "12"
      ]
     },
     "execution_count": 10,
     "metadata": {},
     "output_type": "execute_result"
    }
   ],
   "source": [
    "result = 20 - 8  # Subtracts 8 from 20, result is 12\n",
    "result"
   ]
  },
  {
   "cell_type": "code",
   "execution_count": 11,
   "metadata": {
    "tags": []
   },
   "outputs": [
    {
     "data": {
      "text/plain": [
       "5"
      ]
     },
     "execution_count": 11,
     "metadata": {},
     "output_type": "execute_result"
    }
   ],
   "source": [
    "result = 35 // 6 # Integer division of 35 by 6, result is 5\n",
    "result"
   ]
  },
  {
   "cell_type": "code",
   "execution_count": 13,
   "metadata": {
    "tags": []
   },
   "outputs": [
    {
     "data": {
      "text/plain": [
       "5"
      ]
     },
     "execution_count": 13,
     "metadata": {},
     "output_type": "execute_result"
    }
   ],
   "source": [
    "result = 35 % 6  # Modulo of 35 divided by 6, result is 5\n",
    "result"
   ]
  },
  {
   "cell_type": "code",
   "execution_count": 14,
   "metadata": {
    "tags": []
   },
   "outputs": [],
   "source": [
    "# Exercise 8 - Create a code cell to multiply and add numbers"
   ]
  },
  {
   "cell_type": "code",
   "execution_count": 16,
   "metadata": {
    "tags": []
   },
   "outputs": [
    {
     "data": {
      "text/plain": [
       "5"
      ]
     },
     "execution_count": 16,
     "metadata": {},
     "output_type": "execute_result"
    }
   ],
   "source": [
    "result = (1 * 2) + 3\n",
    "result"
   ]
  },
  {
   "cell_type": "code",
   "execution_count": 17,
   "metadata": {
    "tags": []
   },
   "outputs": [],
   "source": [
    "# Exercise 9 - Create a code cell to convert minutes to hours"
   ]
  },
  {
   "cell_type": "code",
   "execution_count": 19,
   "metadata": {
    "tags": []
   },
   "outputs": [
    {
     "name": "stdout",
     "output_type": "stream",
     "text": [
      "Time in seconds: 200\n",
      "Converted time: 0 days, 0 hours, 3 minutes\n",
      "Time's up! 🎉⏰\n"
     ]
    }
   ],
   "source": [
    "import time\n",
    "\n",
    "time_in_seconds = 200\n",
    "days = time_in_seconds // (24 * 60 * 60)\n",
    "hours = (time_in_seconds % (24 * 60 * 60)) // 3600\n",
    "minutes = (time_in_seconds % 3600) // 60\n",
    "\n",
    "print(f\"Time in seconds: {time_in_seconds}\")\n",
    "print(f\"Converted time: {days} days, {hours} hours, {minutes} minutes\")\n",
    "\n",
    "time.sleep(1)\n",
    "print(\"Time's up! 🎉⏰\")"
   ]
  },
  {
   "cell_type": "code",
   "execution_count": 20,
   "metadata": {
    "tags": []
   },
   "outputs": [],
   "source": [
    "# Exercise 10 - Insert a markdown cell to list Objectives"
   ]
  },
  {
   "cell_type": "markdown",
   "metadata": {},
   "source": [
    "In this exercise, you will practice working with data frames using the `pandas` library in Python. The main objectives of this exercise are:\n",
    "\n",
    "1. Load and inspect data: Load a CSV file into a data frame and explore its structure.\n",
    "2. Data manipulation: Perform basic data manipulation tasks such as filtering, selecting columns, and calculating summary statistics.\n",
    "3. Data visualization: Create visualizations using the `matplotlib` library to gain insights from the data.\n",
    "4. Export results: Save the processed data and visualizations to files for sharing or further analysis.\n",
    "\n",
    "Feel free to modify or expand upon these objectives based on your specific exercise requirements."
   ]
  },
  {
   "cell_type": "code",
   "execution_count": 21,
   "metadata": {
    "tags": []
   },
   "outputs": [],
   "source": [
    "# Exercise 11 - Create a markdown cell to indicate the Author's name"
   ]
  },
  {
   "cell_type": "markdown",
   "metadata": {},
   "source": [
    "## Author\n",
    "\n",
    "Haotian Gu\n"
   ]
  },
  {
   "cell_type": "code",
   "execution_count": 22,
   "metadata": {
    "tags": []
   },
   "outputs": [],
   "source": [
    "# Exercise 11 - Create a markdown cell to indicate the Author's name"
   ]
  },
  {
   "cell_type": "code",
   "execution_count": 23,
   "metadata": {
    "tags": []
   },
   "outputs": [],
   "source": [
    "# Exercise 12 - Share your notebook through GitHub"
   ]
  },
  {
   "cell_type": "code",
   "execution_count": null,
   "metadata": {},
   "outputs": [],
   "source": []
  },
  {
   "cell_type": "code",
   "execution_count": null,
   "metadata": {},
   "outputs": [],
   "source": []
  },
  {
   "cell_type": "code",
   "execution_count": null,
   "metadata": {},
   "outputs": [],
   "source": []
  },
  {
   "cell_type": "code",
   "execution_count": null,
   "metadata": {},
   "outputs": [],
   "source": []
  }
 ],
 "metadata": {
  "kernelspec": {
   "display_name": "Python",
   "language": "python",
   "name": "conda-env-python-py"
  },
  "language_info": {
   "codemirror_mode": {
    "name": "ipython",
    "version": 3
   },
   "file_extension": ".py",
   "mimetype": "text/x-python",
   "name": "python",
   "nbconvert_exporter": "python",
   "pygments_lexer": "ipython3",
   "version": "3.7.12"
  }
 },
 "nbformat": 4,
 "nbformat_minor": 4
}
